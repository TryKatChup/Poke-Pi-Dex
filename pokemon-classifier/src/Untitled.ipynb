{
 "cells": [
  {
   "cell_type": "code",
   "execution_count": 1,
   "id": "abd2e325",
   "metadata": {},
   "outputs": [],
   "source": [
    "import tensorflow as tf"
   ]
  },
  {
   "cell_type": "code",
   "execution_count": 2,
   "id": "40e92f73",
   "metadata": {},
   "outputs": [
    {
     "data": {
      "text/plain": [
       "[PhysicalDevice(name='/physical_device:GPU:0', device_type='GPU')]"
      ]
     },
     "execution_count": 2,
     "metadata": {},
     "output_type": "execute_result"
    }
   ],
   "source": [
    "tf.config.list_physical_devices(\"GPU\")"
   ]
  },
  {
   "cell_type": "code",
   "execution_count": 3,
   "id": "c1fec771",
   "metadata": {},
   "outputs": [],
   "source": [
    "import utils"
   ]
  },
  {
   "cell_type": "code",
   "execution_count": 1,
   "id": "a6e2a416",
   "metadata": {},
   "outputs": [
    {
     "name": "stdout",
     "output_type": "stream",
     "text": [
      " Abra\t\t     Eevee\t  Kabutops     Omanyte\t\t Shellder\r\n",
      " Aerodactyl\t     Ekans\t  Kadabra      Omastar\t\t Slowbro\r\n",
      " Alakazam\t     Electabuzz   Kakuna       Onix\t\t Slowpoke\r\n",
      "'Alolan Sandslash'   Electrode\t  Kangaskhan   Paras\t\t Snorlax\r\n",
      " Arbok\t\t     Exeggcute\t  Kingler      Parasect\t\t Spearow\r\n",
      " Arcanine\t     Exeggutor\t  Koffing      Persian\t\t Squirtle\r\n",
      " Articuno\t     Farfetchd\t  Krabby       Pidgeot\t\t Starmie\r\n",
      " Beedrill\t     Fearow\t  Lapras       Pidgeotto\t Staryu\r\n",
      " Bellsprout\t     Flareon\t  Lickitung    Pidgey\t\t Tangela\r\n",
      " Blastoise\t     Gastly\t  Machamp      Pikachu\t\t Tauros\r\n",
      " Bulbasaur\t     Gengar\t  Machoke      Pinsir\t\t Tentacool\r\n",
      " Butterfree\t     Geodude\t  Machop       PokemonData.zip\t Tentacruel\r\n",
      " Caterpie\t     Gloom\t  Magikarp     Poliwag\t\t Vaporeon\r\n",
      " Chansey\t     Golbat\t  Magmar       Poliwhirl\t Venomoth\r\n",
      " Charizard\t     Goldeen\t  Magnemite    Poliwrath\t Venonat\r\n",
      " Charmander\t     Golduck\t  Magneton     Ponyta\t\t Venusaur\r\n",
      " Charmeleon\t     Golem\t  Mankey       Porygon\t\t Victreebel\r\n",
      " Clefable\t     Graveler\t  Marowak      Primeape\t\t Vileplume\r\n",
      " Clefairy\t     Grimer\t  Meowth       Psyduck\t\t Voltorb\r\n",
      " Cloyster\t     Growlithe\t  Metapod      Raichu\t\t Vulpix\r\n",
      " Cubone\t\t     Gyarados\t  Mew\t       Rapidash\t\t Wartortle\r\n",
      " Dewgong\t     Haunter\t  Mewtwo       Raticate\t\t Weedle\r\n",
      " Diglett\t     Hitmonchan   Moltres      Rattata\t\t Weepinbell\r\n",
      " Ditto\t\t     Hitmonlee\t  MrMime       Rhydon\t\t Weezing\r\n",
      " Dodrio\t\t     Horsea\t  Muk\t       Rhyhorn\t\t Wigglytuff\r\n",
      " Doduo\t\t     Hypno\t  Nidoking     Sandshrew\t Zapdos\r\n",
      " Dragonair\t     Ivysaur\t  Nidoqueen    Sandslash\t Zubat\r\n",
      " Dragonite\t     Jigglypuff   Nidorina     Scyther\r\n",
      " Dratini\t     Jolteon\t  Nidorino     Seadra\r\n",
      " Drowzee\t     Jynx\t  Ninetales    Seaking\r\n",
      " Dugtrio\t     Kabuto\t  Oddish       Seel\r\n"
     ]
    }
   ],
   "source": [
    "!ls /app/data"
   ]
  },
  {
   "cell_type": "code",
   "execution_count": null,
   "id": "fdde91cd",
   "metadata": {},
   "outputs": [],
   "source": []
  }
 ],
 "metadata": {
  "kernelspec": {
   "display_name": "Python 3",
   "language": "python",
   "name": "python3"
  },
  "language_info": {
   "codemirror_mode": {
    "name": "ipython",
    "version": 3
   },
   "file_extension": ".py",
   "mimetype": "text/x-python",
   "name": "python",
   "nbconvert_exporter": "python",
   "pygments_lexer": "ipython3",
   "version": "3.6.9"
  }
 },
 "nbformat": 4,
 "nbformat_minor": 5
}
