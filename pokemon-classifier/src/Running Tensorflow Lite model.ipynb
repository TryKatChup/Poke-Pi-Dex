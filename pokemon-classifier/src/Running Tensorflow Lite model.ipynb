{
 "cells": [
  {
   "cell_type": "code",
   "execution_count": 2,
   "id": "cf03e923",
   "metadata": {},
   "outputs": [],
   "source": [
    "import tensorflow as tf\n",
    "from tensorflow.keras.utils import load_img, img_to_array\n",
    "from matplotlib import pyplot as plt\n",
    "import numpy as np\n",
    "import pc"
   ]
  },
  {
   "cell_type": "code",
   "execution_count": 3,
   "id": "6cb6802f",
   "metadata": {},
   "outputs": [
    {
     "name": "stdout",
     "output_type": "stream",
     "text": [
      "2.7.0\n"
     ]
    }
   ],
   "source": [
    "print(tf.__version__)"
   ]
  },
  {
   "cell_type": "code",
   "execution_count": null,
   "id": "c9b69a66",
   "metadata": {},
   "outputs": [],
   "source": [
    "# Load TFLite model and allocate tensors.\n",
    "# import cv2\n",
    "\n",
    "TFLITE_MODEL=\"./qa_model_best100_8bit.tflite\"\n",
    "interpreter = tf.lite.Interpreter(TFLITE_MODEL)\n",
    "interpreter.allocate_tensors()\n",
    "\n",
    "# Get input and output tensors\n",
    "input_details = interpreter.get_input_details()\n",
    "output_details = interpreter.get_output_details()\n",
    "\n",
    "# Load image\n",
    "img = load_img(\"./evee_1.jpg\", target_size=(224, 224))\n",
    "plt.imshow(img)\n",
    "img = img_to_array(img, dtype=np.float32)\n",
    "img /= 255\n",
    "img = np.expand_dims(img, axis=0)\n",
    "\n",
    "input_tensor = np.array(img, dtype=np.float32)\n",
    "# Load the TFLite model and allocate tensors.\n",
    "interpreter.set_tensor(input_details[0]['index'], input_tensor)\n",
    "interpreter.invoke()\n",
    "\n",
    "# Get output\n",
    "output_data = interpreter.get_tensor(output_details[0]['index'])"
   ]
  },
  {
   "cell_type": "code",
   "execution_count": null,
   "id": "a856c0a1",
   "metadata": {},
   "outputs": [],
   "source": [
    "label_encoder = pc.get_label_encoder()\n",
    "(top_k_scores, top_k_idx) = tf.math.top_k(output_data, 1)\n",
    "top_k_scores = np.squeeze(top_k_scores.numpy(), axis=0)\n",
    "top_k_idx = np.squeeze(top_k_idx.numpy(), axis=0)\n",
    "top_k_labels = label_encoder.inverse_transform(top_k_idx)\n",
    "print (top_k_labels, top_k_scores)"
   ]
  }
 ],
 "metadata": {
  "kernelspec": {
   "display_name": "Python 3 (ipykernel)",
   "language": "python",
   "name": "python3"
  },
  "language_info": {
   "codemirror_mode": {
    "name": "ipython",
    "version": 3
   },
   "file_extension": ".py",
   "mimetype": "text/x-python",
   "name": "python",
   "nbconvert_exporter": "python",
   "pygments_lexer": "ipython3",
   "version": "3.8.10"
  }
 },
 "nbformat": 4,
 "nbformat_minor": 5
}
