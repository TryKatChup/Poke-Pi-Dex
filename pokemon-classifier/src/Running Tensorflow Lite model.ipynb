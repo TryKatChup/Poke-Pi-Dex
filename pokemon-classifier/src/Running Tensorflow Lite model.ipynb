{
 "cells": [
  {
   "cell_type": "code",
   "execution_count": null,
   "metadata": {},
   "outputs": [],
   "source": [
    "!pip install tflite"
   ]
  },
  {
   "cell_type": "code",
   "execution_count": 1,
   "id": "cf03e923",
   "metadata": {},
   "outputs": [],
   "source": [
    "#import tensorflow as tf\n",
    "import tflite_runtime.interpreter as tflite\n",
    "#from tensorflow.keras.utils import load_img, img_to_array\n",
    "from matplotlib import pyplot as plt\n",
    "from sklearn.preprocessing import LabelEncoder\n",
    "from PIL import Image\n",
    "import numpy as np\n",
    "np.set_printoptions(suppress=True,\n",
    "   formatter={'float_kind':'{:f}'.format})"
   ]
  },
  {
   "cell_type": "code",
   "execution_count": 2,
   "metadata": {},
   "outputs": [],
   "source": [
    "def get_label_encoder():\n",
    "    encoder = LabelEncoder()\n",
    "    encoder.classes_ = np.load('./best_classes.npy')\n",
    "    return encoder"
   ]
  },
  {
   "cell_type": "code",
   "execution_count": null,
   "id": "6cb6802f",
   "metadata": {},
   "outputs": [],
   "source": [
    "print(tf.__version__)"
   ]
  },
  {
   "cell_type": "code",
   "execution_count": 3,
   "id": "c9b69a66",
   "metadata": {},
   "outputs": [
    {
     "name": "stdout",
     "output_type": "stream",
     "text": [
      "(1, 224, 224, 3)\n"
     ]
    }
   ],
   "source": [
    "# Load TFLite model and allocate tensors.\n",
    "# import cv2\n",
    "\n",
    "TFLITE_MODEL=\"./vecchio_modello_nuovo_dataset_55fotoclasse_hue.tflite\"\n",
    "interpreter = tflite.Interpreter(TFLITE_MODEL)\n",
    "interpreter.allocate_tensors()\n",
    "\n",
    "# Get input and output tensors\n",
    "input_details = interpreter.get_input_details()\n",
    "output_details = interpreter.get_output_details()\n",
    "\n",
    "# Load image\n",
    "#img = load_img(\"./images/pikachu_peluche.jpg\", target_size=(224, 224))\n",
    "#plt.imshow(img)\n",
    "img = Image.open(\"./images/pikachu_peluche.jpg\")\n",
    "img = img.resize((224, 224), Image.ANTIALIAS)\n",
    "img = np.asarray(img, dtype=np.float32)\n",
    "#img = img_to_array(img, dtype=np.float32)\n",
    "img /= 255\n",
    "img = np.expand_dims(img, axis=0)\n",
    "#img = tf.transpose(img, [0, 3, 1, 2])\n",
    "print(img.shape)\n",
    "\n",
    "input_tensor = np.array(img, dtype=np.float32)\n",
    "# Load the TFLite model and allocate tensors.\n",
    "interpreter.set_tensor(input_details[0]['index'], input_tensor)\n",
    "interpreter.invoke()\n",
    "\n",
    "# Get output\n",
    "output_data = interpreter.get_tensor(output_details[0]['index'])"
   ]
  },
  {
   "cell_type": "code",
   "execution_count": 4,
   "metadata": {},
   "outputs": [],
   "source": [
    "label_encoder = get_label_encoder()"
   ]
  },
  {
   "cell_type": "code",
   "execution_count": 5,
   "id": "76c3522b",
   "metadata": {},
   "outputs": [
    {
     "name": "stdout",
     "output_type": "stream",
     "text": [
      "['Pikachu' 'Alakazam' 'Sandshrew' 'Staryu' 'Metapod'] [0.999246 0.000401 0.000206 0.000057 0.000028]\n"
     ]
    }
   ],
   "source": [
    "# tflite_runtime.interpreter as tflite method\n",
    "results = np.squeeze(output_data, axis=0)\n",
    "top_k_idx = np.argsort(results)[-5:][::-1]\n",
    "top_k_values = results[top_k_idx]\n",
    "top_k_labels = label_encoder.inverse_transform(top_k_idx)\n",
    "print (top_k_labels, top_k_values)\n",
    "# print( \"\\n\".join([f\"{i}: {v:.3f}\" for i, v in zip(top_k_labels, top_k_values)]))"
   ]
  },
  {
   "cell_type": "code",
   "execution_count": null,
   "metadata": {},
   "outputs": [],
   "source": [
    "import tensorflow as tf"
   ]
  },
  {
   "cell_type": "code",
   "execution_count": null,
   "id": "a856c0a1",
   "metadata": {},
   "outputs": [],
   "source": [
    "# Tensorflow method\n",
    "label_encoder = pc.get_label_encoder()\n",
    "(top_k_scores, top_k_idx) = tf.math.top_k(output_data, 1)\n",
    "top_k_scores = np.squeeze(top_k_scores.numpy(), axis=0)\n",
    "top_k_idx = np.squeeze(top_k_idx.numpy(), axis=0)\n",
    "top_k_labels = label_encoder.inverse_transform(top_k_idx)\n",
    "print (top_k_labels, top_k_scores)"
   ]
  },
  {
   "cell_type": "code",
   "execution_count": null,
   "metadata": {},
   "outputs": [],
   "source": []
  }
 ],
 "metadata": {
  "kernelspec": {
   "display_name": "Python 3",
   "language": "python",
   "name": "python3"
  },
  "language_info": {
   "codemirror_mode": {
    "name": "ipython",
    "version": 3
   },
   "file_extension": ".py",
   "mimetype": "text/x-python",
   "name": "python",
   "nbconvert_exporter": "python",
   "pygments_lexer": "ipython3",
   "version": "3.6.9"
  }
 },
 "nbformat": 4,
 "nbformat_minor": 5
}
